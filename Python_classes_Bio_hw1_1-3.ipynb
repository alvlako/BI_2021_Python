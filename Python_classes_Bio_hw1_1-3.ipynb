{
 "cells": [
  {
   "cell_type": "code",
   "execution_count": 97,
   "id": "e45fa061",
   "metadata": {},
   "outputs": [],
   "source": [
    "# Task 1. Here is the class defining bacteriophage using its sequence (a little toy genome)"
   ]
  },
  {
   "cell_type": "code",
   "execution_count": 192,
   "id": "38297229",
   "metadata": {},
   "outputs": [],
   "source": [
    "class PhageError(Exception):\n",
    "    \"\"\"Are you sure it is a living creature?\"\"\"\n",
    "    pass\n",
    "\n",
    "class Phage:\n",
    "    \"\"\"The phage can define its type, invades bacteria if no spacers matches and go lytic\"\"\"\n",
    "    def __init__(self,genome):\n",
    "        self.genome = genome.lower()\n",
    "        print('Hi, I am a cute little phage')\n",
    "        self.spacers_db = ['att', 'ccca','gtta']\n",
    "    \n",
    "    \n",
    "    def phage_type(self):\n",
    "        if self.genome.find('t') > -1:\n",
    "            print('This is DNA phage')\n",
    "        elif self.genome.find('u') > -1:\n",
    "            print('This is RNA phage')\n",
    "        elif self.genome.find('a') < 0 and self.genome.find('c') < 0 and self.genome.find('g') < 0:\n",
    "            raise PhageError\n",
    "            \n",
    "    \n",
    "    def invade_bacteria(self):\n",
    "        invasion = 1\n",
    "        for spacer in self.spacers_db:\n",
    "            if self.genome.find(spacer) > -1:\n",
    "                print ('Sorry, your phage was eliminated with CRISPR-Cas system')\n",
    "                self.spacers_db.append(self.genome[0:3])\n",
    "                invasion = 0\n",
    "                break\n",
    "        if invasion == 1:\n",
    "            print ('Succefully invaded bacteria')\n",
    "    \n",
    "    def go_lytic(self):\n",
    "        print('Bacteria was lysed')\n",
    "        self.spacers_db = []\n",
    "        print('The CRISPR-Cas spacers were destroyed')\n",
    "        \n",
    "        "
   ]
  },
  {
   "cell_type": "code",
   "execution_count": 193,
   "id": "3972c049",
   "metadata": {},
   "outputs": [
    {
     "name": "stdout",
     "output_type": "stream",
     "text": [
      "Hi, I am a cute little phage\n"
     ]
    }
   ],
   "source": [
    "la = Phage('GUUG')"
   ]
  },
  {
   "cell_type": "code",
   "execution_count": 194,
   "id": "f77b999a",
   "metadata": {},
   "outputs": [
    {
     "name": "stdout",
     "output_type": "stream",
     "text": [
      "This is RNA phage\n"
     ]
    }
   ],
   "source": [
    "Phage.phage_type(la)"
   ]
  },
  {
   "cell_type": "code",
   "execution_count": 195,
   "id": "40d59224",
   "metadata": {},
   "outputs": [
    {
     "name": "stdout",
     "output_type": "stream",
     "text": [
      "Succefully invaded bacteria\n"
     ]
    }
   ],
   "source": [
    "Phage.invade_bacteria(la)"
   ]
  },
  {
   "cell_type": "code",
   "execution_count": 196,
   "id": "a8f4a896",
   "metadata": {},
   "outputs": [
    {
     "name": "stdout",
     "output_type": "stream",
     "text": [
      "Bacteria was lysed\n",
      "The CRISPR-Cas spacers were destroyed\n"
     ]
    }
   ],
   "source": [
    "Phage.go_lytic(la)"
   ]
  },
  {
   "cell_type": "code",
   "execution_count": 125,
   "id": "ebc1aef2",
   "metadata": {},
   "outputs": [],
   "source": [
    "# Task 2. Here is the class describing RNA."
   ]
  },
  {
   "cell_type": "code",
   "execution_count": 213,
   "id": "b7d4d3f1",
   "metadata": {},
   "outputs": [],
   "source": [
    "class RNA:\n",
    "    def __init__(self,seq_rna,check_start = False):\n",
    "        self.rna = seq_rna.lower()\n",
    "        self.check = check_start\n",
    "        \n",
    "        \n",
    "    def translate(self):\n",
    "        import Bio\n",
    "        from Bio.Seq import Seq\n",
    "        if self.check is False:\n",
    "            prot = str(Seq(self.rna).translate())\n",
    "        else:\n",
    "            index_of_start = self.rna.find('aug')\n",
    "            if index_of_start < 0:\n",
    "                prot = 'No ORF available'\n",
    "            else:\n",
    "                prot = str(Seq(self.rna[index_of_start:]).translate())\n",
    "        return prot\n",
    "    \n",
    "    \n",
    "    def reverse_transcribe(self):\n",
    "        import Bio\n",
    "        from Bio.Seq import Seq\n",
    "        return str(Seq(self.rna).back_transcribe())\n",
    "        "
   ]
  },
  {
   "cell_type": "code",
   "execution_count": 214,
   "id": "c32536c0",
   "metadata": {},
   "outputs": [
    {
     "data": {
      "text/plain": [
       "'MFG'"
      ]
     },
     "execution_count": 214,
     "metadata": {},
     "output_type": "execute_result"
    }
   ],
   "source": [
    "a = RNA('AUGUUCGGG')\n",
    "RNA.translate(a)"
   ]
  },
  {
   "cell_type": "code",
   "execution_count": 215,
   "id": "8c5163de",
   "metadata": {},
   "outputs": [
    {
     "data": {
      "text/plain": [
       "'atgttcggg'"
      ]
     },
     "execution_count": 215,
     "metadata": {},
     "output_type": "execute_result"
    }
   ],
   "source": [
    "RNA.reverse_transcribe(a)"
   ]
  },
  {
   "cell_type": "code",
   "execution_count": 216,
   "id": "e18e9d70",
   "metadata": {},
   "outputs": [
    {
     "data": {
      "text/plain": [
       "'MFG'"
      ]
     },
     "execution_count": 216,
     "metadata": {},
     "output_type": "execute_result"
    }
   ],
   "source": [
    "a = RNA('AUGUUCGGG', True)\n",
    "RNA.translate(a)"
   ]
  },
  {
   "cell_type": "code",
   "execution_count": 217,
   "id": "4858c704",
   "metadata": {},
   "outputs": [
    {
     "data": {
      "text/plain": [
       "'MR'"
      ]
     },
     "execution_count": 217,
     "metadata": {},
     "output_type": "execute_result"
    }
   ],
   "source": [
    "a = RNA('AGGAUGCGG', True)\n",
    "RNA.translate(a)"
   ]
  },
  {
   "cell_type": "code",
   "execution_count": 218,
   "id": "1339f242",
   "metadata": {},
   "outputs": [
    {
     "data": {
      "text/plain": [
       "'No ORF available'"
      ]
     },
     "execution_count": 218,
     "metadata": {},
     "output_type": "execute_result"
    }
   ],
   "source": [
    "a = RNA('AGGAGGCGG', True)\n",
    "RNA.translate(a)"
   ]
  },
  {
   "cell_type": "code",
   "execution_count": null,
   "id": "661cab1e",
   "metadata": {},
   "outputs": [],
   "source": [
    "# Task 3. The class defining set without negative values."
   ]
  },
  {
   "cell_type": "code",
   "execution_count": 175,
   "id": "1c13ab63",
   "metadata": {},
   "outputs": [],
   "source": [
    "class NonNegativeSetError(Exception):\n",
    "    \"\"\"Negative value added\"\"\"\n",
    "    pass\n",
    "\n",
    "class NonNegativeSet(set):\n",
    "    def __init__(self, x):\n",
    "        super(NonNegativeSet,self).__init__({i for i in set(x) if i >= 0})\n",
    "        \n",
    "        \n",
    "    def add(self, n):\n",
    "        if n >= 0:\n",
    "            super().add(n)\n",
    "        else:\n",
    "            raise NonNegativeSetError"
   ]
  },
  {
   "cell_type": "code",
   "execution_count": 176,
   "id": "054444b2",
   "metadata": {},
   "outputs": [
    {
     "name": "stdout",
     "output_type": "stream",
     "text": [
      "NonNegativeSet({1, 2, 3})\n"
     ]
    },
    {
     "ename": "NonNegativeSetError",
     "evalue": "",
     "output_type": "error",
     "traceback": [
      "\u001b[1;31m---------------------------------------------------------------------------\u001b[0m",
      "\u001b[1;31mNonNegativeSetError\u001b[0m                       Traceback (most recent call last)",
      "\u001b[1;32m<ipython-input-176-680957bfc82b>\u001b[0m in \u001b[0;36m<module>\u001b[1;34m\u001b[0m\n\u001b[0;32m      1\u001b[0m \u001b[0mst\u001b[0m \u001b[1;33m=\u001b[0m \u001b[0mNonNegativeSet\u001b[0m\u001b[1;33m(\u001b[0m\u001b[1;33m{\u001b[0m\u001b[1;36m1\u001b[0m\u001b[1;33m,\u001b[0m\u001b[1;36m2\u001b[0m\u001b[1;33m,\u001b[0m\u001b[1;36m3\u001b[0m\u001b[1;33m,\u001b[0m\u001b[1;33m-\u001b[0m\u001b[1;36m5\u001b[0m\u001b[1;33m,\u001b[0m\u001b[1;33m-\u001b[0m\u001b[1;36m4\u001b[0m\u001b[1;33m}\u001b[0m\u001b[1;33m)\u001b[0m\u001b[1;33m\u001b[0m\u001b[1;33m\u001b[0m\u001b[0m\n\u001b[0;32m      2\u001b[0m \u001b[0mprint\u001b[0m\u001b[1;33m(\u001b[0m\u001b[0mst\u001b[0m\u001b[1;33m)\u001b[0m\u001b[1;33m\u001b[0m\u001b[1;33m\u001b[0m\u001b[0m\n\u001b[1;32m----> 3\u001b[1;33m \u001b[0mst\u001b[0m\u001b[1;33m.\u001b[0m\u001b[0madd\u001b[0m\u001b[1;33m(\u001b[0m\u001b[1;33m-\u001b[0m\u001b[1;36m6\u001b[0m\u001b[1;33m)\u001b[0m\u001b[1;33m\u001b[0m\u001b[1;33m\u001b[0m\u001b[0m\n\u001b[0m\u001b[0;32m      4\u001b[0m \u001b[0mprint\u001b[0m\u001b[1;33m(\u001b[0m\u001b[0mst\u001b[0m\u001b[1;33m)\u001b[0m\u001b[1;33m\u001b[0m\u001b[1;33m\u001b[0m\u001b[0m\n",
      "\u001b[1;32m<ipython-input-175-603f2693193f>\u001b[0m in \u001b[0;36madd\u001b[1;34m(self, n)\u001b[0m\n\u001b[0;32m     10\u001b[0m             \u001b[0msuper\u001b[0m\u001b[1;33m(\u001b[0m\u001b[1;33m)\u001b[0m\u001b[1;33m.\u001b[0m\u001b[0madd\u001b[0m\u001b[1;33m(\u001b[0m\u001b[0mn\u001b[0m\u001b[1;33m)\u001b[0m\u001b[1;33m\u001b[0m\u001b[1;33m\u001b[0m\u001b[0m\n\u001b[0;32m     11\u001b[0m         \u001b[1;32melse\u001b[0m\u001b[1;33m:\u001b[0m\u001b[1;33m\u001b[0m\u001b[1;33m\u001b[0m\u001b[0m\n\u001b[1;32m---> 12\u001b[1;33m             \u001b[1;32mraise\u001b[0m \u001b[0mNonNegativeSetError\u001b[0m\u001b[1;33m\u001b[0m\u001b[1;33m\u001b[0m\u001b[0m\n\u001b[0m",
      "\u001b[1;31mNonNegativeSetError\u001b[0m: "
     ]
    }
   ],
   "source": [
    "st = NonNegativeSet({1,2,3,-5,-4})\n",
    "print(st)\n",
    "st.add(-6)\n",
    "print(st)"
   ]
  },
  {
   "cell_type": "code",
   "execution_count": 177,
   "id": "25500cf7",
   "metadata": {},
   "outputs": [
    {
     "name": "stdout",
     "output_type": "stream",
     "text": [
      "NonNegativeSet({8, 1, 2, 3})\n"
     ]
    }
   ],
   "source": [
    "st.add(8)\n",
    "print(st)"
   ]
  },
  {
   "cell_type": "code",
   "execution_count": 178,
   "id": "a42d89e0",
   "metadata": {},
   "outputs": [],
   "source": []
  },
  {
   "cell_type": "code",
   "execution_count": null,
   "id": "02127d93",
   "metadata": {},
   "outputs": [],
   "source": []
  },
  {
   "cell_type": "code",
   "execution_count": null,
   "id": "a77091a4",
   "metadata": {},
   "outputs": [],
   "source": []
  }
 ],
 "metadata": {
  "kernelspec": {
   "display_name": "Python 3",
   "language": "python",
   "name": "python3"
  },
  "language_info": {
   "codemirror_mode": {
    "name": "ipython",
    "version": 3
   },
   "file_extension": ".py",
   "mimetype": "text/x-python",
   "name": "python",
   "nbconvert_exporter": "python",
   "pygments_lexer": "ipython3",
   "version": "3.6.8"
  }
 },
 "nbformat": 4,
 "nbformat_minor": 5
}
